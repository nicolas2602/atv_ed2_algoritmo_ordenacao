{
  "cells": [
    {
      "cell_type": "markdown",
      "metadata": {
        "id": "view-in-github",
        "colab_type": "text"
      },
      "source": [
        "<a href=\"https://colab.research.google.com/github/nicolas2602/atv_ed2_algoritmo_ordenacao/blob/main/Ordena%C3%A7%C3%A3o_Tarefa_Nicolas_Hiroki_Yonekawa_ED2_SI.ipynb\" target=\"_parent\"><img src=\"https://colab.research.google.com/assets/colab-badge.svg\" alt=\"Open In Colab\"/></a>"
      ]
    },
    {
      "cell_type": "markdown",
      "metadata": {
        "id": "kz_8FTXSmidi"
      },
      "source": [
        "## Introdução"
      ]
    },
    {
      "cell_type": "markdown",
      "metadata": {
        "id": "6jfZJUCTmidk"
      },
      "source": [
        "Algoritmos de ordenação são usados na computação em várias tarefas, seja para ordenar dados em um banco de dados ou mesmo um sistema de arquivos. Cada estratégia pode ter suas vantagens e desvantagens, de modo que a sua aplicabilidade depende do contexto.\n",
        "\n",
        "Abaixo, temos implementações de 3 algoritmos bem conhecidos: Bubble Sort, Insertion Sort e Selection Sort. Esteja a vontade para mudar a implementação (de preferência para reduzir o código) ou mesmo pesquisar outras implementações largamente utilizadas na internet.\n",
        "\n",
        "O entendimento de algoritmos de ordenação é facilitado com o uso de ferramentas de visualização, cada vez mais comuns hoje em dia. Abaixo segue uma lista:\n",
        "\n",
        "- https://visualgo.net/pt/sorting\n",
        "- http://interactivepython.org/courselib/static/pythonds/SortSearch/toctree.html\n",
        "- https://www.cs.usfca.edu/~galles/visualization/ComparisonSort.html"
      ]
    },
    {
      "cell_type": "markdown",
      "source": [
        "### Dados:\n",
        "**Nome:** Nicolas Hiroki Yonekawa\n",
        "\n",
        "**Curso:** Sistemas de Informação\n",
        "\n",
        "**RA:** 180433\n",
        "\n",
        "**Semestre:** 4°\n",
        "\n",
        "**Disciplina:** Estrtura de Dados II"
      ],
      "metadata": {
        "id": "d4SaviuprGBo"
      }
    },
    {
      "cell_type": "markdown",
      "metadata": {
        "id": "2otG8ToCmidl"
      },
      "source": [
        "## Bubble Sort"
      ]
    },
    {
      "cell_type": "code",
      "execution_count": 54,
      "metadata": {
        "collapsed": true,
        "colab": {
          "base_uri": "https://localhost:8080/"
        },
        "id": "las6gINimidm",
        "outputId": "51efceab-c874-4047-c47c-6f644887c8c5"
      },
      "outputs": [
        {
          "output_type": "stream",
          "name": "stdout",
          "text": [
            "[17, 20, 23, 28, 43, 61, 76, 83, 97, 98]\n"
          ]
        }
      ],
      "source": [
        "numeros = [83, 97, 17, 20, 98, 43, 28, 61, 23, 76]\n",
        "\n",
        "def bubbleSort(num):\n",
        "  qt = len(num)\n",
        "  while qt>0:\n",
        "      for i in range(qt):\n",
        "          if i==len(num)-1:\n",
        "              break\n",
        "          if num[i]>num[i+1]:\n",
        "              aux = num[i+1]\n",
        "              num[i+1] = num[i]\n",
        "              num[i] = aux\n",
        "      qt-=1\n",
        "  return num\n",
        "\n",
        "bubble = bubbleSort(numeros)\n",
        "print(bubble)"
      ]
    },
    {
      "cell_type": "markdown",
      "metadata": {
        "id": "Wdjo2CUdmidn"
      },
      "source": [
        "## Insertion Sort"
      ]
    },
    {
      "cell_type": "code",
      "execution_count": 55,
      "metadata": {
        "collapsed": true,
        "colab": {
          "base_uri": "https://localhost:8080/"
        },
        "id": "JZodqxy5mido",
        "outputId": "899d604c-b7b5-423a-be45-863ac0de5550"
      },
      "outputs": [
        {
          "output_type": "stream",
          "name": "stdout",
          "text": [
            "[2, 3, 4, 5, 15, 19, 26, 27, 36, 38, 44, 46, 47, 48, 50]\n"
          ]
        }
      ],
      "source": [
        "numeros = [3,44,38,5,47,15,36,26,27,2,46,4,19,50,48]\n",
        "\n",
        "def insertionSort(num):\n",
        "  for i in range(1,len(num)):\n",
        "      if num[i]<num[i-1]:\n",
        "          aux = num[i-1]\n",
        "          num[i-1] = num[i]\n",
        "          num[i] = aux\n",
        "          j=i-1\n",
        "          while j>0:\n",
        "              if num[j]<num[j-1]:\n",
        "                  aux = num[j-1]\n",
        "                  num[j-1] = num[j]\n",
        "                  num[j] = aux\n",
        "                  j-=1\n",
        "              else:\n",
        "                  break\n",
        "  return num\n",
        "\n",
        "insertion = insertionSort(numeros)\n",
        "print(insertion)"
      ]
    },
    {
      "cell_type": "markdown",
      "metadata": {
        "id": "zRdDcaF4midp"
      },
      "source": [
        "## Selection Sort"
      ]
    },
    {
      "cell_type": "code",
      "execution_count": 81,
      "metadata": {
        "colab": {
          "base_uri": "https://localhost:8080/"
        },
        "id": "-fhN_85umidp",
        "outputId": "cef5fee5-d7a0-4798-9110-80eaf178af2f"
      },
      "outputs": [
        {
          "output_type": "stream",
          "name": "stdout",
          "text": [
            "[83, 97, 17, 20, 98, 43, 28, 61, 23, 76]\n",
            "Rodada 0 [17, 97, 83, 20, 98, 43, 28, 61, 23, 76]\n",
            "Rodada 1 [17, 20, 83, 97, 98, 43, 28, 61, 23, 76]\n",
            "Rodada 2 [17, 20, 23, 97, 98, 43, 28, 61, 83, 76]\n",
            "Rodada 3 [17, 20, 23, 28, 98, 43, 97, 61, 83, 76]\n",
            "Rodada 4 [17, 20, 23, 28, 43, 98, 97, 61, 83, 76]\n",
            "Rodada 5 [17, 20, 23, 28, 43, 61, 97, 98, 83, 76]\n",
            "Rodada 6 [17, 20, 23, 28, 43, 61, 76, 98, 83, 97]\n",
            "Rodada 7 [17, 20, 23, 28, 43, 61, 76, 83, 98, 97]\n",
            "Rodada 8 [17, 20, 23, 28, 43, 61, 76, 83, 97, 98]\n",
            "\n",
            "[17, 20, 23, 28, 43, 61, 76, 83, 97, 98]\n"
          ]
        }
      ],
      "source": [
        "numeros = [83, 97, 17, 20, 98, 43, 28, 61, 23, 76]\n",
        "print(numeros)\n",
        "\n",
        "def selectionSort(n):\n",
        "  s = \"\"\n",
        "  for i in range(0,len(n)-1):\n",
        "      menor = n[i]\n",
        "      k = i\n",
        "      for j in range(i+1,len(n)):\n",
        "          if n[j]<menor:\n",
        "              menor = n[j]\n",
        "              k = j\n",
        "      n[k] = n[i]\n",
        "      n[i] = menor\n",
        "      s += f\"Rodada {i} {n}\\n\"\n",
        "  return s\n",
        "\n",
        "selection = selectionSort(numeros)\n",
        "print(selection)\n",
        "\n",
        "print(numeros)"
      ]
    },
    {
      "cell_type": "markdown",
      "metadata": {
        "id": "Y9VkqHPAmidq"
      },
      "source": [
        "## Merge Sort"
      ]
    },
    {
      "cell_type": "code",
      "execution_count": 57,
      "metadata": {
        "colab": {
          "base_uri": "https://localhost:8080/"
        },
        "id": "an2H4oQEmidq",
        "outputId": "0594c90b-b5ef-421f-b51c-93875447c79d"
      },
      "outputs": [
        {
          "output_type": "stream",
          "name": "stdout",
          "text": [
            "[17, 20, 21, 30, 40, 45]\n",
            "[17, 20, 21, 30, 40, 45]\n",
            "[17, 20, 23, 28, 43, 61, 76, 83, 97, 98]\n"
          ]
        }
      ],
      "source": [
        "#função auxiliar para operação de merge\n",
        "def merge(vetor1, vetor2):\n",
        "    vetor = []\n",
        "    ini2 = 0\n",
        "    ini1 = 0\n",
        "    for v1 in range(len(vetor1)):\n",
        "        for v2 in range(ini2, len(vetor2)):\n",
        "            if vetor2[v2]<vetor1[v1]:\n",
        "                vetor.append(vetor2[v2])\n",
        "                ini2 +=1\n",
        "            elif vetor1[v1]<vetor2[v2]:\n",
        "                vetor.append(vetor1[v1])\n",
        "                ini1 +=1\n",
        "                break\n",
        "            else:\n",
        "                ini2 +=1\n",
        "                ini1 +=1\n",
        "                vetor.append(vetor2[v2])\n",
        "                vetor.append(vetor1[v1])\n",
        "\n",
        "    #se sobrou alguma coisa no vetor, incluir no vetor ordenado\n",
        "    if ini2<=len(vetor2):\n",
        "        for i in range(ini2, len(vetor2)):\n",
        "            vetor.append(vetor2[i])\n",
        "    if ini1<=len(vetor1):\n",
        "        for i in range(ini1, len(vetor1)):\n",
        "            vetor.append(vetor1[i])\n",
        "    return vetor\n",
        "\n",
        "print(merge([17,30,40],[20,21,45]))\n",
        "print(merge([20,21,45],[17,30,40]))\n",
        "\n",
        "numeros = [83, 97, 17, 20, 98, 43, 28, 61, 23, 76]\n",
        "\n",
        "def mergeSort(numeros):\n",
        "    if len(numeros)==1:\n",
        "        return numeros\n",
        "    else:\n",
        "        meio = int(len(numeros)/2)+len(numeros)%2\n",
        "        esq = mergeSort(numeros[:meio])\n",
        "        dir = mergeSort(numeros[meio:])\n",
        "        return merge(esq, dir)\n",
        "\n",
        "print(mergeSort(numeros))"
      ]
    },
    {
      "cell_type": "markdown",
      "metadata": {
        "id": "3L1Thv3emidr"
      },
      "source": [
        "## Quick Sort"
      ]
    },
    {
      "cell_type": "code",
      "execution_count": 58,
      "metadata": {
        "colab": {
          "base_uri": "https://localhost:8080/"
        },
        "id": "CnVZMCY5midr",
        "outputId": "f9db8066-45ed-42c8-a8a6-c71c7e869242"
      },
      "outputs": [
        {
          "output_type": "stream",
          "name": "stdout",
          "text": [
            "[17, 20, 23, 28, 43, 61, 76, 83, 97, 98]\n"
          ]
        }
      ],
      "source": [
        "def quickSort(vetor):\n",
        "    if len(vetor) in (0,1) :\n",
        "        return vetor\n",
        "\n",
        "    #pivo definido como primeiro elemento\n",
        "    pivo = vetor[0]\n",
        "    vetoresq = []\n",
        "    vetordir = []\n",
        "    vetorfinal = []\n",
        "\n",
        "    #criando vetores auxiliares (menores e maiores que pivo)\n",
        "    for i in range(1,len(vetor)):\n",
        "        if vetor[i]<pivo:\n",
        "            vetoresq.append(vetor[i])\n",
        "        else:\n",
        "            vetordir.append(vetor[i])\n",
        "\n",
        "    #chamada recursiva\n",
        "    vetoresq = quickSort(vetoresq)\n",
        "    vetordir = quickSort(vetordir)\n",
        "\n",
        "    #juntando as partes\n",
        "    vetoresq.append(pivo)\n",
        "    vetorfinal = vetoresq\n",
        "    vetorfinal.extend(vetordir)\n",
        "\n",
        "    return vetorfinal\n",
        "\n",
        "numeros = [83, 97, 17, 20, 98, 43, 28, 61, 23, 76]\n",
        "print(quickSort(numeros))\n"
      ]
    },
    {
      "cell_type": "markdown",
      "metadata": {
        "id": "kUCXpADHmidr"
      },
      "source": [
        "## Exercício"
      ]
    },
    {
      "cell_type": "markdown",
      "metadata": {
        "id": "HwbTAvj2midr"
      },
      "source": [
        "** Exercício 1: Transforme as implementações acima em funções e crie uma função que faça a comparação de velocidade para uma entrada com x valores. Experimente usar funções de geração de números aleatórios em Python (Geração de números aleatórios implementada nesse [Caderno](Árvore Binária.ipynb))**"
      ]
    },
    {
      "cell_type": "code",
      "source": [
        "import random\n",
        "import time"
      ],
      "metadata": {
        "id": "Key0Ejy-sGmu"
      },
      "execution_count": 62,
      "outputs": []
    },
    {
      "cell_type": "markdown",
      "source": [
        "Função de gerar números aleatórios:"
      ],
      "metadata": {
        "id": "nPiJpJ1xtfmD"
      }
    },
    {
      "cell_type": "code",
      "execution_count": 89,
      "metadata": {
        "collapsed": true,
        "id": "nsr8-ltsmids"
      },
      "outputs": [],
      "source": [
        "def gerarNumeros(lista):\n",
        "  num = random.randint(1, 101)\n",
        "  lista.append(num)\n",
        "  return lista"
      ]
    },
    {
      "cell_type": "markdown",
      "source": [
        "Função de gerar tamanhos aleatórios:"
      ],
      "metadata": {
        "id": "cW4TJussv7zD"
      }
    },
    {
      "cell_type": "code",
      "source": [
        "def gerarTamanho(lista):\n",
        "    i = 1\n",
        "    listaNum = []\n",
        "    while i < random.randint(2, 11):\n",
        "      listaNum = gerarNumeros(lista)\n",
        "      i += 1\n",
        "\n",
        "    return listaNum"
      ],
      "metadata": {
        "id": "ARdEkd__tlkV"
      },
      "execution_count": 90,
      "outputs": []
    },
    {
      "cell_type": "markdown",
      "source": [
        "Lista vazia para teste"
      ],
      "metadata": {
        "id": "T93ZMwgXaIOG"
      }
    },
    {
      "cell_type": "code",
      "source": [
        "l = []"
      ],
      "metadata": {
        "id": "G8Q__KPnz4mH"
      },
      "execution_count": 129,
      "outputs": []
    },
    {
      "cell_type": "markdown",
      "source": [
        "## Tempo do Bubble Sort:"
      ],
      "metadata": {
        "id": "6OupWC5GZGSN"
      }
    },
    {
      "cell_type": "code",
      "source": [
        "resultadoBubble = gerarTamanho(l)\n",
        "print(resultadoBubble, \"\\n\")\n",
        "\n",
        "inicio = time.time()\n",
        "bubble = bubbleSort(resultadoBubble)\n",
        "fim = time.time()\n",
        "\n",
        "print(f\"Bubble Sort: {bubble}\\n\\nTempo: {fim - inicio}\")"
      ],
      "metadata": {
        "colab": {
          "base_uri": "https://localhost:8080/"
        },
        "id": "rvQpv_TSXFZj",
        "outputId": "0a9bb4f1-5b64-47c4-a48f-06709c204faf"
      },
      "execution_count": 130,
      "outputs": [
        {
          "output_type": "stream",
          "name": "stdout",
          "text": [
            "[49, 62, 83, 32] \n",
            "\n",
            "Bubble Sort: [32, 49, 62, 83]\n",
            "\n",
            "Tempo: 0.00011396408081054688\n"
          ]
        }
      ]
    },
    {
      "cell_type": "markdown",
      "source": [
        "## Tempo do Insertion Sort:"
      ],
      "metadata": {
        "id": "3XaIZaqFZLxs"
      }
    },
    {
      "cell_type": "code",
      "source": [
        "resultadoInsertion = gerarTamanho(l)\n",
        "print(resultadoInsertion, \"\\n\")\n",
        "\n",
        "inicio = time.time()\n",
        "insertion = insertionSort(resultadoInsertion)\n",
        "fim = time.time()\n",
        "\n",
        "print(f\"Insertion Sort: {insertion}\\n\\nTempo: {fim-inicio}\")"
      ],
      "metadata": {
        "colab": {
          "base_uri": "https://localhost:8080/"
        },
        "id": "tO-3OC0LyWTK",
        "outputId": "f5696a88-2b0e-49cd-8606-153df9f8d45c"
      },
      "execution_count": 131,
      "outputs": [
        {
          "output_type": "stream",
          "name": "stdout",
          "text": [
            "[32, 49, 62, 83, 31, 65, 1] \n",
            "\n",
            "Insertion Sort: [1, 31, 32, 49, 62, 65, 83]\n",
            "\n",
            "Tempo: 0.00010704994201660156\n"
          ]
        }
      ]
    },
    {
      "cell_type": "markdown",
      "source": [
        "## Tempo do Selection Sort:"
      ],
      "metadata": {
        "id": "A5MNm068Zg8s"
      }
    },
    {
      "cell_type": "code",
      "source": [
        "resultadoSelection = gerarTamanho(l)\n",
        "print(resultadoSelection, \"\\n\")\n",
        "\n",
        "inicio = time.time()\n",
        "selection = selectionSort(resultadoSelection)\n",
        "fim = time.time()\n",
        "\n",
        "print(f\"Selection Sort:\\n{selection}\\nTempo: {fim-inicio}\\n\")\n",
        "print(f\"Resultado final: {resultadoSelection}\")"
      ],
      "metadata": {
        "colab": {
          "base_uri": "https://localhost:8080/"
        },
        "id": "Cm4amd13zSEd",
        "outputId": "cacdc9a3-6797-4a91-b532-818ff0f06808"
      },
      "execution_count": 132,
      "outputs": [
        {
          "output_type": "stream",
          "name": "stdout",
          "text": [
            "[1, 31, 32, 49, 62, 65, 83, 36, 52, 28, 81, 38] \n",
            "\n",
            "Selection Sort:\n",
            "Rodada 0 [1, 31, 32, 49, 62, 65, 83, 36, 52, 28, 81, 38]\n",
            "Rodada 1 [1, 28, 32, 49, 62, 65, 83, 36, 52, 31, 81, 38]\n",
            "Rodada 2 [1, 28, 31, 49, 62, 65, 83, 36, 52, 32, 81, 38]\n",
            "Rodada 3 [1, 28, 31, 32, 62, 65, 83, 36, 52, 49, 81, 38]\n",
            "Rodada 4 [1, 28, 31, 32, 36, 65, 83, 62, 52, 49, 81, 38]\n",
            "Rodada 5 [1, 28, 31, 32, 36, 38, 83, 62, 52, 49, 81, 65]\n",
            "Rodada 6 [1, 28, 31, 32, 36, 38, 49, 62, 52, 83, 81, 65]\n",
            "Rodada 7 [1, 28, 31, 32, 36, 38, 49, 52, 62, 83, 81, 65]\n",
            "Rodada 8 [1, 28, 31, 32, 36, 38, 49, 52, 62, 83, 81, 65]\n",
            "Rodada 9 [1, 28, 31, 32, 36, 38, 49, 52, 62, 65, 81, 83]\n",
            "Rodada 10 [1, 28, 31, 32, 36, 38, 49, 52, 62, 65, 81, 83]\n",
            "\n",
            "Tempo: 0.00015974044799804688\n",
            "\n",
            "Resultado final: [1, 28, 31, 32, 36, 38, 49, 52, 62, 65, 81, 83]\n"
          ]
        }
      ]
    },
    {
      "cell_type": "markdown",
      "source": [
        "## Tempo do Merge Sort:"
      ],
      "metadata": {
        "id": "Eczuax7uZovz"
      }
    },
    {
      "cell_type": "code",
      "source": [
        "resultado2 = gerarTamanho(l)\n",
        "resultado3 = gerarTamanho(l)\n",
        "\n",
        "merge1 = merge(resultado3, resultado2)\n",
        "merge2 = merge(resultado2, resultado3)\n",
        "\n",
        "resultadoMerge = gerarTamanho(l)\n",
        "\n",
        "inicio = time.time()\n",
        "mergeSt = mergeSort(resultadoMerge)\n",
        "fim = time.time()"
      ],
      "metadata": {
        "id": "0oX0tzwK1ClF"
      },
      "execution_count": 133,
      "outputs": []
    },
    {
      "cell_type": "code",
      "source": [
        "print(f\"Resultado 2: {resultado2}\")\n",
        "print(f\"Resultado 3: {resultado3}\\n\")\n",
        "\n",
        "print(f\"Teste 1: {merge1}\")\n",
        "print(f\"Teste 2: {merge2}\\n\")\n",
        "\n",
        "print(resultadoMerge, \"\\n\")\n",
        "print(f\"Merge Sort: {mergeSt}\\n\\nTempo: {fim-inicio}\")"
      ],
      "metadata": {
        "colab": {
          "base_uri": "https://localhost:8080/"
        },
        "id": "vVnpuLdKvBLZ",
        "outputId": "706fdc44-7dc5-496f-e057-6808da6d91dc"
      },
      "execution_count": 134,
      "outputs": [
        {
          "output_type": "stream",
          "name": "stdout",
          "text": [
            "Resultado 2: [1, 28, 31, 32, 36, 38, 49, 52, 62, 65, 81, 83, 62, 64, 86, 50, 73, 96, 81]\n",
            "Resultado 3: [1, 28, 31, 32, 36, 38, 49, 52, 62, 65, 81, 83, 62, 64, 86, 50, 73, 96, 81]\n",
            "\n",
            "Teste 1: [1, 1, 1, 28, 28, 28, 31, 31, 31, 32, 32, 32, 36, 36, 36, 38, 38, 38, 49, 49, 49, 52, 52, 52, 62, 62, 62, 65, 65, 65, 81, 81, 81, 83, 83, 62, 64, 83, 62, 64, 86, 86, 50, 73]\n",
            "Teste 2: [1, 1, 1, 28, 28, 28, 31, 31, 31, 32, 32, 32, 36, 36, 36, 38, 38, 38, 49, 49, 49, 52, 52, 52, 62, 62, 62, 65, 65, 65, 81, 81, 81, 83, 83, 62, 64, 83, 62, 64, 86, 86, 50, 73]\n",
            "\n",
            "[1, 28, 31, 32, 36, 38, 49, 52, 62, 65, 81, 83, 62, 64, 86, 50, 73, 96, 81] \n",
            "\n",
            "Merge Sort: [1, 28, 31, 32, 36, 38, 49, 50, 52, 62, 62, 62, 64, 65, 73, 81, 81, 81, 83, 86, 96]\n",
            "\n",
            "Tempo: 0.00023484230041503906\n"
          ]
        }
      ]
    },
    {
      "cell_type": "markdown",
      "source": [
        "## Tempo do Quick Sort:"
      ],
      "metadata": {
        "id": "UFDAnrcqZsP-"
      }
    },
    {
      "cell_type": "code",
      "source": [
        "resultadoQuick = gerarTamanho(l)\n",
        "print(resultadoQuick, \"\\n\")\n",
        "\n",
        "inicio = time.time()\n",
        "quick = quickSort(resultadoQuick)\n",
        "fim = time.time()\n",
        "\n",
        "print(f\"Quick Sort: {quick}\\n\\nTempo: {fim-inicio}\")"
      ],
      "metadata": {
        "colab": {
          "base_uri": "https://localhost:8080/"
        },
        "id": "ANlYPKZxzYrw",
        "outputId": "fb300c9f-3d3e-44ff-b81d-d56036922490"
      },
      "execution_count": 135,
      "outputs": [
        {
          "output_type": "stream",
          "name": "stdout",
          "text": [
            "[1, 28, 31, 32, 36, 38, 49, 52, 62, 65, 81, 83, 62, 64, 86, 50, 73, 96, 81, 59, 69, 4, 66] \n",
            "\n",
            "Quick Sort: [1, 4, 28, 31, 32, 36, 38, 49, 50, 52, 59, 62, 62, 64, 65, 66, 69, 73, 81, 81, 83, 86, 96]\n",
            "\n",
            "Tempo: 0.00019502639770507812\n"
          ]
        }
      ]
    }
  ],
  "metadata": {
    "kernelspec": {
      "display_name": "Python 3",
      "language": "python",
      "name": "python3"
    },
    "language_info": {
      "codemirror_mode": {
        "name": "ipython",
        "version": 3
      },
      "file_extension": ".py",
      "mimetype": "text/x-python",
      "name": "python",
      "nbconvert_exporter": "python",
      "pygments_lexer": "ipython3",
      "version": "3.6.1"
    },
    "colab": {
      "provenance": [],
      "include_colab_link": true
    }
  },
  "nbformat": 4,
  "nbformat_minor": 0
}