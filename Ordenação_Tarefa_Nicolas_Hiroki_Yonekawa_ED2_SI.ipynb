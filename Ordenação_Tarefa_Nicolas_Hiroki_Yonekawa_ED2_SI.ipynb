{
  "cells": [
    {
      "cell_type": "markdown",
      "metadata": {
        "id": "view-in-github",
        "colab_type": "text"
      },
      "source": [
        "<a href=\"https://colab.research.google.com/github/nicolas2602/atv_ed2_algoritmo_ordenacao/blob/main/Ordena%C3%A7%C3%A3o_Tarefa_Nicolas_Hiroki_Yonekawa_ED2_SI.ipynb\" target=\"_parent\"><img src=\"https://colab.research.google.com/assets/colab-badge.svg\" alt=\"Open In Colab\"/></a>"
      ]
    },
    {
      "cell_type": "markdown",
      "metadata": {
        "id": "kz_8FTXSmidi"
      },
      "source": [
        "## Introdução"
      ]
    },
    {
      "cell_type": "markdown",
      "metadata": {
        "id": "6jfZJUCTmidk"
      },
      "source": [
        "Algoritmos de ordenação são usados na computação em várias tarefas, seja para ordenar dados em um banco de dados ou mesmo um sistema de arquivos. Cada estratégia pode ter suas vantagens e desvantagens, de modo que a sua aplicabilidade depende do contexto.\n",
        "\n",
        "Abaixo, temos implementações de 3 algoritmos bem conhecidos: Bubble Sort, Insertion Sort e Selection Sort. Esteja a vontade para mudar a implementação (de preferência para reduzir o código) ou mesmo pesquisar outras implementações largamente utilizadas na internet.\n",
        "\n",
        "O entendimento de algoritmos de ordenação é facilitado com o uso de ferramentas de visualização, cada vez mais comuns hoje em dia. Abaixo segue uma lista:\n",
        "\n",
        "- https://visualgo.net/pt/sorting\n",
        "- http://interactivepython.org/courselib/static/pythonds/SortSearch/toctree.html\n",
        "- https://www.cs.usfca.edu/~galles/visualization/ComparisonSort.html"
      ]
    },
    {
      "cell_type": "markdown",
      "source": [
        "### Dados:\n",
        "**Nome:** Nicolas Hiroki Yonekawa\n",
        "\n",
        "**Curso:** Sistemas de Informação\n",
        "\n",
        "**RA:** 180433\n",
        "\n",
        "**Semestre:** 4°\n",
        "\n",
        "**Disciplina:** Estrtura de Dados II"
      ],
      "metadata": {
        "id": "d4SaviuprGBo"
      }
    },
    {
      "cell_type": "markdown",
      "metadata": {
        "id": "2otG8ToCmidl"
      },
      "source": [
        "## Bubble Sort"
      ]
    },
    {
      "cell_type": "code",
      "execution_count": null,
      "metadata": {
        "collapsed": true,
        "colab": {
          "base_uri": "https://localhost:8080/"
        },
        "id": "las6gINimidm",
        "outputId": "e66d9b0d-2d13-49f3-8c41-c57beddd5254"
      },
      "outputs": [
        {
          "output_type": "stream",
          "name": "stdout",
          "text": [
            "[17, 20, 23, 28, 43, 61, 76, 83, 97, 98]\n"
          ]
        }
      ],
      "source": [
        "numeros = [83, 97, 17, 20, 98, 43, 28, 61, 23, 76]\n",
        "\n",
        "def bubbleSort(num):\n",
        "  qt = len(num)\n",
        "  while qt>0:\n",
        "      for i in range(qt):\n",
        "          if i==len(num)-1:\n",
        "              break\n",
        "          if num[i]>num[i+1]:\n",
        "              aux = num[i+1]\n",
        "              num[i+1] = num[i]\n",
        "              num[i] = aux\n",
        "      qt-=1\n",
        "  return num\n",
        "\n",
        "bubble = bubbleSort(numeros)\n",
        "print(bubble)"
      ]
    },
    {
      "cell_type": "markdown",
      "metadata": {
        "id": "Wdjo2CUdmidn"
      },
      "source": [
        "## Insertion Sort"
      ]
    },
    {
      "cell_type": "code",
      "execution_count": null,
      "metadata": {
        "collapsed": true,
        "colab": {
          "base_uri": "https://localhost:8080/"
        },
        "id": "JZodqxy5mido",
        "outputId": "8cf2c691-1769-4357-c027-3b2edd5a12af"
      },
      "outputs": [
        {
          "output_type": "stream",
          "name": "stdout",
          "text": [
            "[2, 3, 4, 5, 15, 19, 26, 27, 36, 38, 44, 46, 47, 48, 50]\n"
          ]
        }
      ],
      "source": [
        "numeros = [3,44,38,5,47,15,36,26,27,2,46,4,19,50,48]\n",
        "\n",
        "def insertionSort(num):\n",
        "  for i in range(1,len(num)):\n",
        "      if num[i]<num[i-1]:\n",
        "          aux = num[i-1]\n",
        "          num[i-1] = num[i]\n",
        "          num[i] = aux\n",
        "          j=i-1\n",
        "          while j>0:\n",
        "              if num[j]<num[j-1]:\n",
        "                  aux = num[j-1]\n",
        "                  num[j-1] = num[j]\n",
        "                  num[j] = aux\n",
        "                  j-=1\n",
        "              else:\n",
        "                  break\n",
        "  return num\n",
        "\n",
        "insertion = insertionSort(numeros)\n",
        "print(insertion)"
      ]
    },
    {
      "cell_type": "markdown",
      "metadata": {
        "id": "zRdDcaF4midp"
      },
      "source": [
        "## Selection Sort"
      ]
    },
    {
      "cell_type": "code",
      "execution_count": null,
      "metadata": {
        "colab": {
          "base_uri": "https://localhost:8080/"
        },
        "id": "-fhN_85umidp",
        "outputId": "ccc6c429-ae08-4c38-cac1-85d551b3c36f"
      },
      "outputs": [
        {
          "output_type": "stream",
          "name": "stdout",
          "text": [
            "[83, 97, 17, 20, 98, 43, 28, 61, 23, 76]\n",
            "Rodada 0 [17, 97, 83, 20, 98, 43, 28, 61, 23, 76]\n",
            "Rodada 1 [17, 20, 83, 97, 98, 43, 28, 61, 23, 76]\n",
            "Rodada 2 [17, 20, 23, 97, 98, 43, 28, 61, 83, 76]\n",
            "Rodada 3 [17, 20, 23, 28, 98, 43, 97, 61, 83, 76]\n",
            "Rodada 4 [17, 20, 23, 28, 43, 98, 97, 61, 83, 76]\n",
            "Rodada 5 [17, 20, 23, 28, 43, 61, 97, 98, 83, 76]\n",
            "Rodada 6 [17, 20, 23, 28, 43, 61, 76, 98, 83, 97]\n",
            "Rodada 7 [17, 20, 23, 28, 43, 61, 76, 83, 98, 97]\n",
            "Rodada 8 [17, 20, 23, 28, 43, 61, 76, 83, 97, 98]\n",
            "\n",
            "[17, 20, 23, 28, 43, 61, 76, 83, 97, 98]\n"
          ]
        }
      ],
      "source": [
        "numeros = [83, 97, 17, 20, 98, 43, 28, 61, 23, 76]\n",
        "print(numeros)\n",
        "\n",
        "def selectionSort(n):\n",
        "  s = \"\"\n",
        "  for i in range(0,len(n)-1):\n",
        "      menor = n[i]\n",
        "      k = i\n",
        "      for j in range(i+1,len(n)):\n",
        "          if n[j]<menor:\n",
        "              menor = n[j]\n",
        "              k = j\n",
        "      n[k] = n[i]\n",
        "      n[i] = menor\n",
        "      s += f\"Rodada {i} {n}\\n\"\n",
        "  return s\n",
        "\n",
        "selection = selectionSort(numeros)\n",
        "print(selection)\n",
        "\n",
        "print(numeros)"
      ]
    },
    {
      "cell_type": "markdown",
      "metadata": {
        "id": "Y9VkqHPAmidq"
      },
      "source": [
        "## Merge Sort"
      ]
    },
    {
      "cell_type": "code",
      "execution_count": null,
      "metadata": {
        "colab": {
          "base_uri": "https://localhost:8080/"
        },
        "id": "an2H4oQEmidq",
        "outputId": "d4a87639-d150-4c57-ba2d-c3d241c848bd"
      },
      "outputs": [
        {
          "output_type": "stream",
          "name": "stdout",
          "text": [
            "[17, 20, 21, 30, 40, 45]\n",
            "[17, 20, 21, 30, 40, 45]\n",
            "[17, 20, 23, 28, 43, 61, 76, 83, 97, 98]\n"
          ]
        }
      ],
      "source": [
        "#função auxiliar para operação de merge\n",
        "def merge(vetor1, vetor2):\n",
        "    vetor = []\n",
        "    ini2 = 0\n",
        "    ini1 = 0\n",
        "    for v1 in range(len(vetor1)):\n",
        "        for v2 in range(ini2, len(vetor2)):\n",
        "            if vetor2[v2]<vetor1[v1]:\n",
        "                vetor.append(vetor2[v2])\n",
        "                ini2 +=1\n",
        "            elif vetor1[v1]<vetor2[v2]:\n",
        "                vetor.append(vetor1[v1])\n",
        "                ini1 +=1\n",
        "                break\n",
        "            else:\n",
        "                ini2 +=1\n",
        "                ini1 +=1\n",
        "                vetor.append(vetor2[v2])\n",
        "                vetor.append(vetor1[v1])\n",
        "\n",
        "    #se sobrou alguma coisa no vetor, incluir no vetor ordenado\n",
        "    if ini2<=len(vetor2):\n",
        "        for i in range(ini2, len(vetor2)):\n",
        "            vetor.append(vetor2[i])\n",
        "    if ini1<=len(vetor1):\n",
        "        for i in range(ini1, len(vetor1)):\n",
        "            vetor.append(vetor1[i])\n",
        "    return vetor\n",
        "\n",
        "print(merge([17,30,40],[20,21,45]))\n",
        "print(merge([20,21,45],[17,30,40]))\n",
        "\n",
        "numeros = [83, 97, 17, 20, 98, 43, 28, 61, 23, 76]\n",
        "\n",
        "def mergeSort(numeros):\n",
        "    if len(numeros)==1:\n",
        "        return numeros\n",
        "    else:\n",
        "        meio = int(len(numeros)/2)+len(numeros)%2\n",
        "        esq = mergeSort(numeros[:meio])\n",
        "        dir = mergeSort(numeros[meio:])\n",
        "        return merge(esq, dir)\n",
        "\n",
        "print(mergeSort(numeros))"
      ]
    },
    {
      "cell_type": "markdown",
      "metadata": {
        "id": "3L1Thv3emidr"
      },
      "source": [
        "## Quick Sort"
      ]
    },
    {
      "cell_type": "code",
      "execution_count": null,
      "metadata": {
        "colab": {
          "base_uri": "https://localhost:8080/"
        },
        "id": "CnVZMCY5midr",
        "outputId": "559507a3-c1af-450a-eb36-687c3c94a4b0"
      },
      "outputs": [
        {
          "output_type": "stream",
          "name": "stdout",
          "text": [
            "[17, 20, 23, 28, 43, 61, 76, 83, 97, 98]\n"
          ]
        }
      ],
      "source": [
        "def quickSort(vetor):\n",
        "    if len(vetor) in (0,1) :\n",
        "        return vetor\n",
        "\n",
        "    #pivo definido como primeiro elemento\n",
        "    pivo = vetor[0]\n",
        "    vetoresq = []\n",
        "    vetordir = []\n",
        "    vetorfinal = []\n",
        "\n",
        "    #criando vetores auxiliares (menores e maiores que pivo)\n",
        "    for i in range(1,len(vetor)):\n",
        "        if vetor[i]<pivo:\n",
        "            vetoresq.append(vetor[i])\n",
        "        else:\n",
        "            vetordir.append(vetor[i])\n",
        "\n",
        "    #chamada recursiva\n",
        "    vetoresq = quickSort(vetoresq)\n",
        "    vetordir = quickSort(vetordir)\n",
        "\n",
        "    #juntando as partes\n",
        "    vetoresq.append(pivo)\n",
        "    vetorfinal = vetoresq\n",
        "    vetorfinal.extend(vetordir)\n",
        "\n",
        "    return vetorfinal\n",
        "\n",
        "numeros = [83, 97, 17, 20, 98, 43, 28, 61, 23, 76]\n",
        "print(quickSort(numeros))\n"
      ]
    },
    {
      "cell_type": "markdown",
      "metadata": {
        "id": "kUCXpADHmidr"
      },
      "source": [
        "## Exercício"
      ]
    },
    {
      "cell_type": "markdown",
      "metadata": {
        "id": "HwbTAvj2midr"
      },
      "source": [
        "** Exercício 1: Transforme as implementações acima em funções e crie uma função que faça a comparação de velocidade para uma entrada com x valores. Experimente usar funções de geração de números aleatórios em Python (Geração de números aleatórios implementada nesse [Caderno](Árvore Binária.ipynb))**"
      ]
    },
    {
      "cell_type": "code",
      "source": [
        "import random\n",
        "import time"
      ],
      "metadata": {
        "id": "Key0Ejy-sGmu"
      },
      "execution_count": null,
      "outputs": []
    },
    {
      "cell_type": "markdown",
      "source": [
        "Função de gerar números aleatórios:"
      ],
      "metadata": {
        "id": "nPiJpJ1xtfmD"
      }
    },
    {
      "cell_type": "code",
      "execution_count": null,
      "metadata": {
        "collapsed": true,
        "id": "nsr8-ltsmids"
      },
      "outputs": [],
      "source": [
        "def gerarNumeros(lista):\n",
        "  num = random.randint(1, 101)\n",
        "  lista.append(num)\n",
        "  return lista"
      ]
    },
    {
      "cell_type": "markdown",
      "source": [
        "Função de gerar quantidades aleatórios:"
      ],
      "metadata": {
        "id": "cW4TJussv7zD"
      }
    },
    {
      "cell_type": "code",
      "source": [
        "def gerarQtd(lista):\n",
        "    i = 1\n",
        "    listaNum = []\n",
        "    while i < random.randint(1, 11):\n",
        "      listaNum = gerarNumeros(lista)\n",
        "      i += 1\n",
        "\n",
        "    return listaNum"
      ],
      "metadata": {
        "id": "ARdEkd__tlkV"
      },
      "execution_count": null,
      "outputs": []
    },
    {
      "cell_type": "markdown",
      "source": [
        "Variáveis para teste"
      ],
      "metadata": {
        "id": "T93ZMwgXaIOG"
      }
    },
    {
      "cell_type": "code",
      "source": [
        "l = []\n",
        "resultado = gerarQtd(l)\n",
        "resultado2 = gerarQtd(l)\n",
        "resultado3 = gerarQtd(l)"
      ],
      "metadata": {
        "id": "G8Q__KPnz4mH"
      },
      "execution_count": null,
      "outputs": []
    },
    {
      "cell_type": "markdown",
      "source": [
        "## Tempo do Bubble Sort:"
      ],
      "metadata": {
        "id": "6OupWC5GZGSN"
      }
    },
    {
      "cell_type": "code",
      "source": [
        "inicio = time.time()\n",
        "bubble = bubbleSort(resultado)\n",
        "fim = time.time()\n",
        "print(f\"Bubble Sort: {bubble}\\nTempo: {fim - inicio}\")"
      ],
      "metadata": {
        "colab": {
          "base_uri": "https://localhost:8080/"
        },
        "id": "rvQpv_TSXFZj",
        "outputId": "f74b397b-255c-4660-e041-45abcdcbdf28"
      },
      "execution_count": null,
      "outputs": [
        {
          "output_type": "stream",
          "name": "stdout",
          "text": [
            "Bubble Sort: [4, 28, 39, 58]\n",
            "Tempo: 0.00011539459228515625\n"
          ]
        }
      ]
    },
    {
      "cell_type": "markdown",
      "source": [
        "## Tempo do Insertion Sort:"
      ],
      "metadata": {
        "id": "3XaIZaqFZLxs"
      }
    },
    {
      "cell_type": "code",
      "source": [
        "inicio = time.time()\n",
        "insertion = insertionSort(resultado)\n",
        "fim = time.time()\n",
        "print(f\"Insertion Sort: {insertion}\\nTempo: {fim-inicio}\")"
      ],
      "metadata": {
        "colab": {
          "base_uri": "https://localhost:8080/"
        },
        "id": "tO-3OC0LyWTK",
        "outputId": "900e8921-fcd1-4cbb-c5de-563de76a699b"
      },
      "execution_count": null,
      "outputs": [
        {
          "output_type": "stream",
          "name": "stdout",
          "text": [
            "Insertion Sort: [4, 28, 39, 58]\n",
            "Tempo: 0.00012755393981933594\n"
          ]
        }
      ]
    },
    {
      "cell_type": "markdown",
      "source": [
        "## Tempo do Selection Sort:"
      ],
      "metadata": {
        "id": "A5MNm068Zg8s"
      }
    },
    {
      "cell_type": "code",
      "source": [
        "inicio = time.time()\n",
        "selection = selectionSort(resultado)\n",
        "fim = time.time()\n",
        "print(f\"Selection Sort:\\n{selection}\\nTempo: {fim-inicio}\")"
      ],
      "metadata": {
        "colab": {
          "base_uri": "https://localhost:8080/"
        },
        "id": "Cm4amd13zSEd",
        "outputId": "e2d6bd89-2546-446a-c862-2e1d8c6f880e"
      },
      "execution_count": null,
      "outputs": [
        {
          "output_type": "stream",
          "name": "stdout",
          "text": [
            "Selection Sort:\n",
            "Rodada 0 [4, 28, 39, 58]\n",
            "Rodada 1 [4, 28, 39, 58]\n",
            "Rodada 2 [4, 28, 39, 58]\n",
            "\n",
            "Tempo: 0.00025010108947753906\n"
          ]
        }
      ]
    },
    {
      "cell_type": "markdown",
      "source": [
        "## Tempo do Merge Sort:"
      ],
      "metadata": {
        "id": "Eczuax7uZovz"
      }
    },
    {
      "cell_type": "code",
      "source": [
        "merge1 = merge(resultado3, resultado2)\n",
        "merge2 = merge(resultado2, resultado3)\n",
        "\n",
        "inicio = time.time()\n",
        "mergeSt = mergeSort(resultado)\n",
        "fim = time.time()"
      ],
      "metadata": {
        "id": "0oX0tzwK1ClF"
      },
      "execution_count": null,
      "outputs": []
    },
    {
      "cell_type": "code",
      "source": [
        "print(f\"Teste 1: {merge1}\")\n",
        "print(f\"Teste 2: {merge2}\\n\")\n",
        "print(f\"Merge Sort: {mergeSt}\\nTempo: {fim-inicio}\")"
      ],
      "metadata": {
        "colab": {
          "base_uri": "https://localhost:8080/"
        },
        "id": "vVnpuLdKvBLZ",
        "outputId": "6eaaaabf-84e8-4d05-b703-8035a222c4c8"
      },
      "execution_count": null,
      "outputs": [
        {
          "output_type": "stream",
          "name": "stdout",
          "text": [
            "Teste 1: [4, 28, 39, 58]\n",
            "Teste 2: [4, 28, 39, 58]\n",
            "\n",
            "Merge Sort: [4, 28, 39, 58]\n",
            "Tempo: 0.0003147125244140625\n"
          ]
        }
      ]
    },
    {
      "cell_type": "markdown",
      "source": [
        "## Tempo do Quick Sort:"
      ],
      "metadata": {
        "id": "UFDAnrcqZsP-"
      }
    },
    {
      "cell_type": "code",
      "source": [
        "inicio = time.time()\n",
        "quick = quickSort(resultado)\n",
        "fim = time.time()\n",
        "print(f\"Quick Sort: {quick}\\nTempo: {fim-inicio}\")"
      ],
      "metadata": {
        "colab": {
          "base_uri": "https://localhost:8080/"
        },
        "id": "ANlYPKZxzYrw",
        "outputId": "22d0f156-1e46-4ea8-f36d-09810a28e22e"
      },
      "execution_count": null,
      "outputs": [
        {
          "output_type": "stream",
          "name": "stdout",
          "text": [
            "Quick Sort: [4, 28, 39, 58]\n",
            "Tempo: 0.0003147125244140625\n"
          ]
        }
      ]
    }
  ],
  "metadata": {
    "kernelspec": {
      "display_name": "Python 3",
      "language": "python",
      "name": "python3"
    },
    "language_info": {
      "codemirror_mode": {
        "name": "ipython",
        "version": 3
      },
      "file_extension": ".py",
      "mimetype": "text/x-python",
      "name": "python",
      "nbconvert_exporter": "python",
      "pygments_lexer": "ipython3",
      "version": "3.6.1"
    },
    "colab": {
      "provenance": [],
      "include_colab_link": true
    }
  },
  "nbformat": 4,
  "nbformat_minor": 0
}